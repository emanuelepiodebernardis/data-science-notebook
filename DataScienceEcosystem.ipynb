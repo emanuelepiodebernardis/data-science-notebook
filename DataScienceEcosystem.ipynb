{
 "cells": [
  {
   "cell_type": "markdown",
   "id": "b790bb12-3828-4b2a-9c34-3579fbe69349",
   "metadata": {},
   "source": [
    "## Data Science Tools and Ecosystem"
   ]
  },
  {
   "cell_type": "markdown",
   "id": "dcc7ef0b-e0c8-481b-b650-9cd88ab59379",
   "metadata": {},
   "source": [
    "In this notebook, Data Science Tools and Ecosystem are summarized."
   ]
  },
  {
   "cell_type": "markdown",
   "id": "84e6eff4-6b56-4480-b8d1-f73f9cfb8de2",
   "metadata": {},
   "source": [
    "**Objectives:**\n",
    "\n",
    "- List popular languages for Data Science  \n",
    "- Identify commonly used libraries in Data Science  \n",
    "- Create tables to represent Data Science tools  \n",
    "- Demonstrate examples of arithmetic expressions in Python  \n",
    "- Convert minutes into hours using Python code  \n"
   ]
  },
  {
   "cell_type": "markdown",
   "id": "73e2ac10-8855-4627-adc8-3438f00ad84c",
   "metadata": {},
   "source": [
    "Some of the popular languages that Data Scientists use are:\n",
    "\n",
    "1. Python  \n",
    "2. R  \n",
    "3. SQL "
   ]
  },
  {
   "cell_type": "markdown",
   "id": "d4c3c94c-ee23-4147-855c-fa34ad5b6382",
   "metadata": {},
   "source": [
    "Some of the commonly used libraries used by Data Scientists include:\n",
    "1. Pandas\n",
    "2. Matplotlib\n",
    "3. Scikit-learn \n",
    "4. Seaborn\n",
    "5. NumPy\n",
    "6. TensorFlow  "
   ]
  },
  {
   "cell_type": "markdown",
   "id": "561e6692-7063-4228-b8b4-f898f270c175",
   "metadata": {},
   "source": [
    "| Data Science Tools |\n",
    "|---------------------|\n",
    "| Jupyter Notebook    |\n",
    "| RStudio             |\n",
    "| Apache Zeppelin     |"
   ]
  },
  {
   "cell_type": "markdown",
   "id": "c92b7f0b-320c-43cc-86bc-056bfbf545be",
   "metadata": {},
   "source": [
    "### Below are a few examples of evaluating arithmetic expressions in Python.\n"
   ]
  },
  {
   "cell_type": "code",
   "execution_count": 7,
   "id": "d1dc02e2-8e33-4cac-9731-93e3238630ab",
   "metadata": {},
   "outputs": [
    {
     "data": {
      "text/plain": [
       "17"
      ]
     },
     "execution_count": 7,
     "metadata": {},
     "output_type": "execute_result"
    }
   ],
   "source": [
    "# This is a simple arithmetic expression to multiply then add integers\n",
    "(3*4) + 5"
   ]
  },
  {
   "cell_type": "code",
   "execution_count": 9,
   "id": "d4f9bbcd-fb08-4234-a704-f09b91a3891b",
   "metadata": {},
   "outputs": [
    {
     "data": {
      "text/plain": [
       "3.3333333333333335"
      ]
     },
     "execution_count": 9,
     "metadata": {},
     "output_type": "execute_result"
    }
   ],
   "source": [
    "#This will convert 200 minutes to hours by diving by 60\n",
    "(200/60)"
   ]
  },
  {
   "cell_type": "markdown",
   "id": "94814df6-9dda-4bc5-84d4-e808b861cad3",
   "metadata": {},
   "source": [
    "## Author\n",
    "\n",
    "Emanuele Pio De Bernardis"
   ]
  },
  {
   "cell_type": "code",
   "execution_count": null,
   "id": "9b6ecec3-f6fe-4d36-a6e6-a8e271d30edb",
   "metadata": {},
   "outputs": [],
   "source": []
  },
  {
   "cell_type": "code",
   "execution_count": null,
   "id": "c9e28e25-6814-46bd-88f3-bf03bdca94da",
   "metadata": {},
   "outputs": [],
   "source": []
  },
  {
   "cell_type": "code",
   "execution_count": null,
   "id": "db8f5dd5-9252-4074-8662-d78241684d17",
   "metadata": {},
   "outputs": [],
   "source": []
  },
  {
   "cell_type": "code",
   "execution_count": null,
   "id": "9181900c-2721-47bd-9723-80562943652d",
   "metadata": {},
   "outputs": [],
   "source": []
  }
 ],
 "metadata": {
  "kernelspec": {
   "display_name": "Python [conda env:base] *",
   "language": "python",
   "name": "conda-base-py"
  },
  "language_info": {
   "codemirror_mode": {
    "name": "ipython",
    "version": 3
   },
   "file_extension": ".py",
   "mimetype": "text/x-python",
   "name": "python",
   "nbconvert_exporter": "python",
   "pygments_lexer": "ipython3",
   "version": "3.12.7"
  }
 },
 "nbformat": 4,
 "nbformat_minor": 5
}
